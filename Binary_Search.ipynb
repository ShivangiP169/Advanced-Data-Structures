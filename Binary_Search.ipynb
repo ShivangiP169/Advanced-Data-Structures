{
  "nbformat": 4,
  "nbformat_minor": 0,
  "metadata": {
    "colab": {
      "provenance": []
    },
    "kernelspec": {
      "name": "python3",
      "display_name": "Python 3"
    },
    "language_info": {
      "name": "python"
    }
  },
  "cells": [
    {
      "cell_type": "code",
      "execution_count": null,
      "metadata": {
        "colab": {
          "base_uri": "https://localhost:8080/"
        },
        "id": "q-od2U1fCuIK",
        "outputId": "1b28fbec-7e6e-42ae-d3c1-3ae44ff17a2d"
      },
      "outputs": [
        {
          "name": "stdout",
          "output_type": "stream",
          "text": [
            "Enter the no.of elements:6\n",
            "Enter numbers:9\n",
            "Enter numbers:8\n",
            "Enter numbers:5\n"
          ]
        }
      ],
      "source": [
        "def binary_serach(list,key):\n",
        "    low = 0\n",
        "    high = len(list) - 1\n",
        "    while low < high:\n",
        "        mid = (low + high)//2\n",
        "    if key == list[mid]:\n",
        "        return mid\n",
        "    elif key < list[mid]:\n",
        "        high = mid - 1\n",
        "    else:\n",
        "        low = mid + 1\n",
        "    return -1\n",
        "\n",
        "n = int(input(\"Enter the no.of elements:\"))\n",
        "list = []\n",
        "for i in range(n):\n",
        "    num = int(input(\"Enter numbers:\"))\n",
        "    list.append(num)\n",
        "key = int(input(\"Enter Seraching elements:\"))\n",
        "position =  binary_serach(list,key)\n",
        "if position == -1:\n",
        "    print(\"Elements found\")\n",
        "else:\n",
        "    print(\"{} Element found at position {}\".format(key,position))"
      ]
    }
  ]
}