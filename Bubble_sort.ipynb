{
  "nbformat": 4,
  "nbformat_minor": 0,
  "metadata": {
    "colab": {
      "provenance": []
    },
    "kernelspec": {
      "name": "python3",
      "display_name": "Python 3"
    },
    "language_info": {
      "name": "python"
    }
  },
  "cells": [
    {
      "cell_type": "code",
      "source": [
        "def bubble_sort(lst):\n",
        "    size = len(lst)\n",
        "    for i in range(size - 1):\n",
        "        for j in range(size - 1 - i):\n",
        "            if lst[j] > lst[j + 1]:\n",
        "                temp = lst[j]\n",
        "                lst[j] = lst[j + 1]\n",
        "                lst[j + 1] = temp\n",
        "    return lst\n",
        "\n",
        "\n",
        "n = int(input(\"Enter number of elements: \"))\n",
        "lst1 = []\n",
        "for i in range(n):\n",
        "    num = int(input(\"Enter elements: \"))\n",
        "    lst1.append(num)\n",
        "\n",
        "bubble_sort(lst1)\n",
        "print(\"The sorted elements are:\")\n",
        "for i in range(n):\n",
        "    print(lst1[i], end=\" \")\n",
        "\n",
        "\n",
        "# Example\n",
        "arr = [64, 34, 25, 12, 22, 11, 90]\n",
        "sorted_arr = bubble_sort(arr)\n",
        "print(\"\\nSorted array:\", sorted_arr)\n",
        "\n"
      ],
      "metadata": {
        "id": "U4yJSS13EvEF"
      },
      "execution_count": null,
      "outputs": []
    }
  ]
}