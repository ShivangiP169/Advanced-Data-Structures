{
  "nbformat": 4,
  "nbformat_minor": 0,
  "metadata": {
    "colab": {
      "provenance": []
    },
    "kernelspec": {
      "name": "python3",
      "display_name": "Python 3"
    },
    "language_info": {
      "name": "python"
    }
  },
  "cells": [
    {
      "cell_type": "code",
      "execution_count": 2,
      "metadata": {
        "colab": {
          "base_uri": "https://localhost:8080/"
        },
        "id": "q-od2U1fCuIK",
        "outputId": "c534554f-2efa-463f-c8ce-5bf36a2ead69"
      },
      "outputs": [
        {
          "output_type": "stream",
          "name": "stdout",
          "text": [
            "Unique element using Linear Search: 4\n",
            "Unique element using Binary Search: 4\n"
          ]
        }
      ],
      "source": [
        "\n",
        "def find_unique_linear(arr):\n",
        "    for i in range(0, len(arr) - 1, 2):\n",
        "        if arr[i] != arr[i + 1]:\n",
        "            return arr[i]\n",
        "    return arr[-1]\n",
        "def find_unique_binary(arr):\n",
        "    left, right = 0, len(arr) - 1\n",
        "\n",
        "    while left < right:\n",
        "        mid = left + (right - left) // 2\n",
        "\n",
        "        if mid % 2 == 1:\n",
        "            mid -= 1\n",
        "\n",
        "        if arr[mid] == arr[mid + 1]:\n",
        "            left = mid + 2\n",
        "        else:\n",
        "            right = mid\n",
        "\n",
        "    return arr[left]\n",
        "\n",
        "\n",
        "arr = [1, 1, 2, 2, 3, 3, 4, 5, 5]\n",
        "print(\"Unique element using Linear Search:\", find_unique_linear(arr))\n",
        "print(\"Unique element using Binary Search:\", find_unique_binary(arr))\n"
      ]
    }
  ]
}