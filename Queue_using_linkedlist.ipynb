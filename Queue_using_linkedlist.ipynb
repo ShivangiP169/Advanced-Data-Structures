{
  "nbformat": 4,
  "nbformat_minor": 0,
  "metadata": {
    "colab": {
      "provenance": []
    },
    "kernelspec": {
      "name": "python3",
      "display_name": "Python 3"
    },
    "language_info": {
      "name": "python"
    }
  },
  "cells": [
    {
      "cell_type": "code",
      "source": [
        " class Node:\n",
        "      def __init__(self, NewData, link): # Changed init to __init__\n",
        "        self.data=NewData\n",
        "        self.next=link\n",
        "\n",
        "class Queue:\n",
        "    def __init__(self): # Changed init to __init__\n",
        "        self.front=None\n",
        "        self.rear=None\n",
        "    def isempty(self):\n",
        "        return self.front is None\n",
        "    def enqueue(self, NewData):\n",
        "        newNode=Node(NewData, None)\n",
        "        if self.front is None:\n",
        "            self.front=self.rear=newNode\n",
        "        else:\n",
        "            self.rear.next=newNode\n",
        "            self.rear=newNode\n",
        "    def peek(self):\n",
        "        return self.front.data\n",
        "    def dequeue(self):\n",
        "        frontNode=self.front\n",
        "        if self.front==self.rear:\n",
        "            self.front=self.rear=None\n",
        "        else:\n",
        "            self.front=frontNode.next # Fixed indentation and variable name frontNOde to frontNode\n",
        "        return frontNode.data\n",
        "    def display(self): # Fixed indentation\n",
        "        curNode=self.front\n",
        "        print()\n",
        "        while curNode is not None:\n",
        "          print(curNode.data)\n",
        "          curNode=curNode.next\n",
        "        print(\"None\")\n",
        "\n",
        "q=Queue()\n",
        "while(True): # Removed semicolon\n",
        "  print(\"Progmar to implement queue\")\n",
        "  print(\"1.Enqueue\")\n",
        "  print(\"2.Dequeue\")\n",
        "  print(\"3.Peek\")\n",
        "  print(\"4.Display\")\n",
        "  print(\"5.Exit\")\n",
        "  choice=int(input(\"Enter your choice\"))\n",
        "  if choice==1: # Fixed indentation\n",
        "    num=int(input(\"Enter the data\"))\n",
        "    q.enqueue(num)\n",
        "\n",
        "  elif choice==2: # Fixed indentation\n",
        "    if q.isempty(): # Added underflow check\n",
        "      print(\"Queue underflow!\")\n",
        "    else:\n",
        "      num=q.dequeue()\n",
        "      print(\"Item dequeue:\",num)\n",
        "\n",
        "  elif choice==3: # Fixed indentation and logic\n",
        "    if q.isempty():\n",
        "      print(\"Queue underflow!\")\n",
        "    else:\n",
        "      num=q.peek() # Changed q.isempty() to q.peek()\n",
        "      print(\"Itemm at the front of the queue:\",num)\n",
        "  elif choice==4: # Fixed indentation\n",
        "    if q.isempty():\n",
        "      print(\"Queue is empty!\")\n",
        "    else:\n",
        "      q.display()\n",
        "  elif choice==5: # Fixed indentation\n",
        "    break\n",
        "  else: # Fixed indentation\n",
        "    print(\"Invalid choice,please enter the correct choice!\")"
      ],
      "metadata": {
        "colab": {
          "base_uri": "https://localhost:8080/"
        },
        "id": "XoMwnfsQ_HlZ",
        "outputId": "3f7fa129-384e-4e64-f534-c5cbf3dc8428"
      },
      "execution_count": 3,
      "outputs": [
        {
          "name": "stdout",
          "output_type": "stream",
          "text": [
            "Progmar to implement queue\n",
            "1.Enqueue\n",
            "2.Dequeue\n",
            "3.Peek\n",
            "4.Display\n",
            "5.Exit\n",
            "Enter your choice3\n",
            "Queue underflow!\n",
            "Progmar to implement queue\n",
            "1.Enqueue\n",
            "2.Dequeue\n",
            "3.Peek\n",
            "4.Display\n",
            "5.Exit\n",
            "Enter your choice5\n"
          ]
        }
      ]
    }
  ]
}