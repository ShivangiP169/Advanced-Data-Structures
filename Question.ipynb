{
  "nbformat": 4,
  "nbformat_minor": 0,
  "metadata": {
    "colab": {
      "provenance": []
    },
    "kernelspec": {
      "name": "python3",
      "display_name": "Python 3"
    },
    "language_info": {
      "name": "python"
    }
  },
  "cells": [
    {
      "cell_type": "code",
      "source": [
        "#find the smallest element in selector and then element is interchange with the element of first position.\n",
        "def selection_sort(lst):\n",
        "    size = len(lst)\n",
        "\n",
        "    for i in range(size - 1):\n",
        "        min_index = i  # Assume the first element is the smallest\n",
        "\n",
        "        for j in range(i + 1, size):\n",
        "            if lst[j] < lst[min_index]:\n",
        "                min_index = j\n",
        "\n",
        "\n",
        "        lst[i], lst[min_index] = lst[min_index], lst[i]\n",
        "\n",
        "    return lst\n",
        "\n",
        "# Example\n",
        "arr = [64, 34, 25, 12, 22, 11, 90]\n",
        "sorted_arr = selection_sort(arr)\n",
        "print(\"Sorted array:\", sorted_arr)\n",
        "\n",
        "\n",
        "\n"
      ],
      "metadata": {
        "colab": {
          "base_uri": "https://localhost:8080/"
        },
        "id": "U4yJSS13EvEF",
        "outputId": "91cbbcf3-5aea-4036-839a-860d0c66a595"
      },
      "execution_count": 4,
      "outputs": [
        {
          "output_type": "stream",
          "name": "stdout",
          "text": [
            "Sorted array: [11, 12, 22, 25, 34, 64, 90]\n"
          ]
        }
      ]
    }
  ]
}