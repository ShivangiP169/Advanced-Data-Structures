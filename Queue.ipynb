{
  "nbformat": 4,
  "nbformat_minor": 0,
  "metadata": {
    "colab": {
      "provenance": []
    },
    "kernelspec": {
      "name": "python3",
      "display_name": "Python 3"
    },
    "language_info": {
      "name": "python"
    }
  },
  "cells": [
    {
      "cell_type": "code",
      "source": [
        "import numpy as np\n",
        "class Queue:\n",
        "  def_init_(self,size):\n",
        "     self.front=-1\n",
        "     self.rear=-1\n",
        "     self.size = size\n",
        "     self.arr=np.empty(size,dtype=int)\n",
        " def isempty(self):\n",
        "    return self.front==-1\n",
        " def arr_size(self):\n",
        "    return len(self.arr)\n",
        "def is full(self):\n",
        "  return self.rear==self.size-1\n",
        "def peek(self):\n",
        "  return self.arr[self.front]\n",
        "def enqueue(self,item):\n",
        "  if self.isnull():\n",
        "    print(\"Queue is full!\")\n",
        " else:\n",
        "    if self.front==-1:\n",
        "       self.front=0\n",
        "    self.rear+=1\n",
        "    self.arr[self.rear]=item\n",
        "    print(f\"{item} added to the queue\")\n",
        "def dequeue(self):\n",
        "  if self.isempty():\n",
        "    print(\"Queue is empty!\")\n",
        "  else:\n",
        "    dequeued_item=self.arr[self.front]\n",
        "    if self.front==self.rear:\n",
        "      self.front=-1\n",
        "      self.rear=-1\n",
        "    else:\n",
        "      self.front+=1\n",
        "      print(f\"{dequeued_item} removed from the queue!\")\n",
        "      return dequeue_item\n",
        "def displya(self):\n",
        "  if self.isempty():\n",
        "    print(\"Queue is empty!\")\n",
        "  else:\n",
        "    print(\"Queue elements are:\")\n",
        "    for i in range(self.front,self.rear+1):\n",
        "      print(self.arr[i]), end=\"\"\n",
        "    print()\n",
        "\n",
        "size = int(input(\"Enter the size of the array:\"))\n",
        "q = Queue(size)\n",
        "\n",
        "\n"
      ],
      "metadata": {
        "id": "U4yJSS13EvEF"
      },
      "execution_count": null,
      "outputs": []
    }
  ]
}