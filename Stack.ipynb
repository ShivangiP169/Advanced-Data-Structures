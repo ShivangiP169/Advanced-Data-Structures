{
  "nbformat": 4,
  "nbformat_minor": 0,
  "metadata": {
    "colab": {
      "provenance": []
    },
    "kernelspec": {
      "name": "python3",
      "display_name": "Python 3"
    },
    "language_info": {
      "name": "python"
    }
  },
  "cells": [
    {
      "cell_type": "code",
      "source": [
        "class StackNode:\n",
        "    def __init__(self, NewData, link):  # Corrected to __init__\n",
        "        self.data = NewData\n",
        "        self.next = link\n",
        "\n",
        "class Stack:\n",
        "    def __init__(self):  # Corrected to __init__\n",
        "        self.top = None\n",
        "    def is_empty(self):\n",
        "        return self.top is None\n",
        "    def peek(self):\n",
        "        if not self.is_empty():  # Added check to prevent error if stack is empty\n",
        "            return self.top.data\n",
        "        else:\n",
        "            return None  # or raise an exception\n",
        "    def push(self, data):\n",
        "        self.top = StackNode(data, self.top)\n",
        "    def pop(self):\n",
        "        if not self.is_empty():  # Added check to prevent error if stack is empty\n",
        "            node = self.top\n",
        "            self.top = self.top.next\n",
        "            return node.data\n",
        "        else:\n",
        "            return None  # or raise an exception\n",
        "\n",
        "\n",
        "def infix_to_postfix(source):\n",
        "    target = \"\"\n",
        "    st = Stack()\n",
        "    for ch in source:\n",
        "        if ch in '(':  # Corrected to 'in'\n",
        "            st.push(ch)\n",
        "        elif ch == ')':\n",
        "            while (not st.is_empty() and st.peek() != '('):\n",
        "                target += st.pop()\n",
        "            if not st.is_empty():  # Added check to prevent error if stack is empty\n",
        "                st.pop()\n",
        "        elif ch.isdigit() or ch.isalpha():\n",
        "            target += ch\n",
        "        elif ch == '+' or ch == '-' or ch == '*' or ch == '/':\n",
        "            while (not st.is_empty() and st.peek() != '(' and getPriority(st.peek()) >= getPriority(ch)):\n",
        "                target += st.pop()\n",
        "            st.push(ch)\n",
        "    while (not st.is_empty()):  # Moved this block outside the loop\n",
        "        target += st.pop()\n",
        "    return target\n",
        "\n",
        "def getPriority(opr):\n",
        "    if (opr == '*' or opr == '/' or opr == '%'):\n",
        "        return 1\n",
        "    else:\n",
        "        return 0\n",
        "\n",
        "infix_exp = input(\"Enter an infix expression:\")\n",
        "postfix = infix_to_postfix(infix_exp)\n",
        "print(\"The equivalent postfix expression is:\")\n",
        "print(postfix)"
      ],
      "metadata": {
        "id": "U4yJSS13EvEF"
      },
      "execution_count": null,
      "outputs": []
    }
  ]
}